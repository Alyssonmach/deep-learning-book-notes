{
 "cells": [
  {
   "attachments": {},
   "cell_type": "markdown",
   "metadata": {},
   "source": [
    "# Linear Algebra - Fundamental Concepts\n",
    "\n",
    "Linear algebra is a branch of mathematics that is widely used throughout science and engineering. However, because linear algebra is a form of continuous rather than discrete mathematics, many computer scientists have little experience with it. A good understanding of linear algebra is essential for understanding and working with many machine learning algorithms, especially deep learning algorithms. We therefore precede our introduction to deep learning with a focused presentation of the key linear algebra prerequisites.\n",
    "\n",
    "The theoretical summary of all content is available at: [chapter-02-notes.pdf](chapter-02-notes.pdf)."
   ]
  },
  {
   "attachments": {},
   "cell_type": "markdown",
   "metadata": {},
   "source": [
    "## Importing Python's Numpy Package"
   ]
  },
  {
   "cell_type": "code",
   "execution_count": 1,
   "metadata": {},
   "outputs": [],
   "source": [
    "import numpy as np"
   ]
  },
  {
   "attachments": {},
   "cell_type": "markdown",
   "metadata": {},
   "source": [
    "### Scalars, Vectors, Matrices and Tensors"
   ]
  },
  {
   "cell_type": "code",
   "execution_count": 2,
   "metadata": {},
   "outputs": [
    {
     "name": "stdout",
     "output_type": "stream",
     "text": [
      "Scalar:\n",
      "42\n"
     ]
    }
   ],
   "source": [
    "scalar = np.array(42)\n",
    "print(f'Scalar:\\n{scalar}')"
   ]
  },
  {
   "cell_type": "code",
   "execution_count": 3,
   "metadata": {},
   "outputs": [
    {
     "name": "stdout",
     "output_type": "stream",
     "text": [
      "Vector:\n",
      "[1 2 3]\n"
     ]
    }
   ],
   "source": [
    "vector = np.array([1, 2, 3])\n",
    "print(f'Vector:\\n{vector}')"
   ]
  },
  {
   "cell_type": "code",
   "execution_count": 4,
   "metadata": {},
   "outputs": [
    {
     "name": "stdout",
     "output_type": "stream",
     "text": [
      "Tensor:\n",
      "[[[ 1  2  3]\n",
      "  [ 4  5  6]\n",
      "  [ 7  8  9]]\n",
      "\n",
      " [[10 11 12]\n",
      "  [13 14 15]\n",
      "  [16 17 18]]\n",
      "\n",
      " [[19 20 21]\n",
      "  [22 23 24]\n",
      "  [25 26 27]]]\n"
     ]
    }
   ],
   "source": [
    "tensor = np.array([[[1, 2, 3], [4, 5, 6], [7, 8, 9]],\n",
    "                   [[10, 11, 12], [13, 14, 15], [16, 17, 18]],\n",
    "                   [[19, 20, 21], [22, 23, 24], [25, 26, 27]]])\n",
    "print(f'Tensor:\\n{tensor}')"
   ]
  },
  {
   "attachments": {},
   "cell_type": "markdown",
   "metadata": {},
   "source": [
    "## Transpose of the Matrix"
   ]
  },
  {
   "cell_type": "code",
   "execution_count": 6,
   "metadata": {},
   "outputs": [
    {
     "name": "stdout",
     "output_type": "stream",
     "text": [
      "Original Matrix:\n",
      "[[1 2]\n",
      " [3 4]\n",
      " [5 6]]\n",
      "\n",
      "Transpose of The Matrix:\n",
      "[[1 3 5]\n",
      " [2 4 6]]\n",
      "\n",
      "Transpose of The Matrix (Another Way):\n",
      "[[1 3 5]\n",
      " [2 4 6]]\n"
     ]
    }
   ],
   "source": [
    "matrix = np.array([[1, 2], [3, 4], [5, 6]])\n",
    "print(f'Original Matrix:\\n{matrix}')\n",
    "\n",
    "transpose_matrix = np.transpose(matrix)\n",
    "print(f'\\nTranspose of The Matrix:\\n{transpose_matrix}')\n",
    "\n",
    "print(f'\\nTranspose of The Matrix (Another Way):\\n{matrix.T}')"
   ]
  },
  {
   "attachments": {},
   "cell_type": "markdown",
   "metadata": {},
   "source": [
    "## Multiplying Matrices and Vectors"
   ]
  },
  {
   "cell_type": "code",
   "execution_count": 7,
   "metadata": {},
   "outputs": [],
   "source": [
    "A = np.array([[1, 2, 3], [4, 5, 6]])\n",
    "B = np.array([[7, 8], [9, 10], [11, 12]])"
   ]
  },
  {
   "cell_type": "code",
   "execution_count": 10,
   "metadata": {},
   "outputs": [
    {
     "name": "stdout",
     "output_type": "stream",
     "text": [
      "Matrix A:\n",
      "[[1 2 3]\n",
      " [4 5 6]]\n",
      "\n",
      "Matrix B:\n",
      "[[ 7  8]\n",
      " [ 9 10]\n",
      " [11 12]]\n"
     ]
    }
   ],
   "source": [
    "print(f'Matrix A:\\n{A}')\n",
    "print(f'\\nMatrix B:\\n{B}')"
   ]
  },
  {
   "cell_type": "code",
   "execution_count": 9,
   "metadata": {},
   "outputs": [
    {
     "name": "stdout",
     "output_type": "stream",
     "text": [
      "A x B:\n",
      "[[ 58  64]\n",
      " [139 154]]\n"
     ]
    }
   ],
   "source": [
    "C = np.dot(A, B)\n",
    "\n",
    "print(f'A x B:\\n{C}')"
   ]
  },
  {
   "attachments": {},
   "cell_type": "markdown",
   "metadata": {},
   "source": [
    "### Element-wise Product (Hadamard product)"
   ]
  },
  {
   "cell_type": "code",
   "execution_count": 11,
   "metadata": {},
   "outputs": [],
   "source": [
    "A = np.array([[1, 2, 3], [4, 5, 6]])\n",
    "B = np.array([[7, 8, 9], [10, 11, 12]])"
   ]
  },
  {
   "cell_type": "code",
   "execution_count": 12,
   "metadata": {},
   "outputs": [
    {
     "name": "stdout",
     "output_type": "stream",
     "text": [
      "Element Wise Product A * B =\n",
      "[[ 7 16 27]\n",
      " [40 55 72]]\n"
     ]
    }
   ],
   "source": [
    "C = np.multiply(A, B)\n",
    "\n",
    "print(f'Element Wise Product A * B =\\n{C}')"
   ]
  },
  {
   "attachments": {},
   "cell_type": "markdown",
   "metadata": {},
   "source": [
    "## Identity and Inverse Matrices"
   ]
  },
  {
   "cell_type": "code",
   "execution_count": 13,
   "metadata": {},
   "outputs": [
    {
     "name": "stdout",
     "output_type": "stream",
     "text": [
      "Identity Matrix:\n",
      "[[1. 0. 0.]\n",
      " [0. 1. 0.]\n",
      " [0. 0. 1.]]\n"
     ]
    }
   ],
   "source": [
    "I = np.eye(3)\n",
    "\n",
    "print(f'Identity Matrix:\\n{I}')"
   ]
  },
  {
   "cell_type": "code",
   "execution_count": 18,
   "metadata": {},
   "outputs": [
    {
     "name": "stdout",
     "output_type": "stream",
     "text": [
      "Inverse of Matrix A:\n",
      "[[-2.   1. ]\n",
      " [ 1.5 -0.5]]\n",
      "\n",
      "A x A^-1 =\n",
      "[[1. 0.]\n",
      " [0. 1.]]\n"
     ]
    }
   ],
   "source": [
    "A = np.array([[1, 2], [3, 4]])\n",
    "A_inv = np.linalg.inv(A)\n",
    "\n",
    "print(f'Inverse of Matrix A:\\n{A_inv}')\n",
    "\n",
    "I = np.dot(A, A_inv)\n",
    "print(f'\\nA x A^-1 =\\n{np.round(I, 2)}')"
   ]
  },
  {
   "attachments": {},
   "cell_type": "markdown",
   "metadata": {},
   "source": [
    "## Linear Dependence"
   ]
  },
  {
   "cell_type": "code",
   "execution_count": 94,
   "metadata": {},
   "outputs": [
    {
     "name": "stdout",
     "output_type": "stream",
     "text": [
      "Linearly Dependent Matrix:\n",
      "[[1 2 3]\n",
      " [4 5 6]\n",
      " [7 8 9]]\n"
     ]
    }
   ],
   "source": [
    "A = np.array([[1, 2, 3], [4, 5, 6], [7, 8, 9]])\n",
    "\n",
    "print(f'Linearly Dependent Matrix:\\n{A}')\n",
    "\n",
    "A_linear_combination = -1 * np.array([1, 2, 3]) + 2 * np.array([4, 5, 6]) - 1 * np.array([7, 8, 9])\n",
    "\n",
    "assert (A_linear_combination == np.array([0, 0, 0])).all()"
   ]
  },
  {
   "attachments": {},
   "cell_type": "markdown",
   "metadata": {},
   "source": [
    "## Norms"
   ]
  },
  {
   "cell_type": "code",
   "execution_count": 70,
   "metadata": {},
   "outputs": [
    {
     "name": "stdout",
     "output_type": "stream",
     "text": [
      "L0 Norm: 5\n",
      "L1 Norm: 15.0\n",
      "L2 Norm: 7.416198487095663\n",
      "Max Norm: 5.0\n"
     ]
    }
   ],
   "source": [
    "v = np.array([1, 2, -3, 0, 4, -5])\n",
    "\n",
    "print(f'L0 Norm: {np.count_nonzero(v)}')\n",
    "print(f'L1 Norm: {np.linalg.norm(v, ord = 1)}')\n",
    "print(f'L2 Norm: {np.linalg.norm(v, ord = 2)}')\n",
    "print(f'Max Norm: {np.linalg.norm(v, ord = np.inf)}')"
   ]
  },
  {
   "attachments": {},
   "cell_type": "markdown",
   "metadata": {},
   "source": [
    "## Special Kinds of Matrices and Vectors"
   ]
  },
  {
   "attachments": {},
   "cell_type": "markdown",
   "metadata": {},
   "source": [
    "### Diagonal matrices"
   ]
  },
  {
   "cell_type": "code",
   "execution_count": 71,
   "metadata": {},
   "outputs": [
    {
     "name": "stdout",
     "output_type": "stream",
     "text": [
      "Diagonal Matrix:\n",
      "[[1 0 0]\n",
      " [0 2 0]\n",
      " [0 0 3]]\n"
     ]
    }
   ],
   "source": [
    "v = np.array([1, 2, 3])\n",
    "D = np.diag(v)\n",
    "\n",
    "print(f'Diagonal Matrix:\\n{D}')"
   ]
  },
  {
   "attachments": {},
   "cell_type": "markdown",
   "metadata": {},
   "source": [
    "### Symmetric Matrix"
   ]
  },
  {
   "cell_type": "code",
   "execution_count": 77,
   "metadata": {},
   "outputs": [
    {
     "name": "stdout",
     "output_type": "stream",
     "text": [
      "Symmetric Matrix:\n",
      "[[1. 2. 3.]\n",
      " [2. 4. 5.]\n",
      " [3. 5. 6.]]\n"
     ]
    }
   ],
   "source": [
    "v = np.array([1, 2, 3, 4, 5, 6])\n",
    "\n",
    "A = np.zeros((3, 3))\n",
    "A[np.triu_indices(3)] = v\n",
    "A = A + A.T - np.diag(A.diagonal())\n",
    "\n",
    "print(f'Symmetric Matrix:\\n{A}')"
   ]
  },
  {
   "attachments": {},
   "cell_type": "markdown",
   "metadata": {},
   "source": [
    "### Unit Vector"
   ]
  },
  {
   "cell_type": "code",
   "execution_count": 80,
   "metadata": {},
   "outputs": [
    {
     "name": "stdout",
     "output_type": "stream",
     "text": [
      "Vector v = [3 4 5] with length = 7.0710678118654755\n",
      "Unit Vector of v = [0.42426407 0.56568542 0.70710678] with length = 1.0\n"
     ]
    }
   ],
   "source": [
    "v = np.array([3, 4, 5])\n",
    "\n",
    "length = np.sqrt(np.sum(v**2))\n",
    "unit_v = v / length\n",
    "\n",
    "print(f'Vector v = {v} with length = {length}')\n",
    "print(f'Unit Vector of v = {unit_v} with length = {np.round(np.sqrt(np.sum(unit_v**2)), 2)}')\n"
   ]
  },
  {
   "attachments": {},
   "cell_type": "markdown",
   "metadata": {},
   "source": [
    "### Orthogonal Matrix"
   ]
  },
  {
   "cell_type": "code",
   "execution_count": 93,
   "metadata": {},
   "outputs": [
    {
     "name": "stdout",
     "output_type": "stream",
     "text": [
      "Original Matrix:\n",
      "[[0.63353088 0.68335045 0.31662868]\n",
      " [0.50817784 0.07903943 0.03618055]\n",
      " [0.10966345 0.50553096 0.81202509]]\n",
      "\n",
      "Orthogonal Matrix:\n",
      "[[-0.77304014  0.33039905 -0.54152138]\n",
      " [-0.62008322 -0.57364225  0.53519284]\n",
      " [-0.13381234  0.74951387  0.64832339]]\n"
     ]
    }
   ],
   "source": [
    "A = np.random.rand(3, 3)\n",
    "\n",
    "Q, R = np.linalg.qr(A)\n",
    "\n",
    "print(f'Original Matrix:\\n{A}')\n",
    "print(f'\\nOrthogonal Matrix:\\n{Q}')\n",
    "\n",
    "assert (np.eye(3) == np.round(np.dot(Q.T, Q), 2)).all()"
   ]
  },
  {
   "attachments": {},
   "cell_type": "markdown",
   "metadata": {},
   "source": [
    "## Eigendecomposition"
   ]
  },
  {
   "cell_type": "code",
   "execution_count": 92,
   "metadata": {},
   "outputs": [
    {
     "name": "stdout",
     "output_type": "stream",
     "text": [
      "Original Matrix:\n",
      "{A}\n",
      "\n",
      "Eigen Values:\n",
      "[ 1.99369247 -0.23422298 -0.32669518]\n",
      "\n",
      "Eigen Vectors:\n",
      "[[-0.52203254 -0.15513372  0.11510005]\n",
      " [-0.56070003 -0.74068    -0.8280084 ]\n",
      " [-0.64272661  0.65370227  0.54877507]]\n"
     ]
    }
   ],
   "source": [
    "A = np.random.rand(3, 3)\n",
    "\n",
    "eigenvalues, eigenvectors = np.linalg.eig(A)\n",
    "\n",
    "print('Original Matrix:\\n{A}')\n",
    "print(f'\\nEigen Values:\\n{eigenvalues}')\n",
    "print(f'\\nEigen Vectors:\\n{eigenvectors}')\n",
    "\n",
    "assert (np.round(np.dot(A, eigenvectors), 2) == np.round(np.dot(eigenvectors, np.diag(eigenvalues)), 2)).all()"
   ]
  },
  {
   "attachments": {},
   "cell_type": "markdown",
   "metadata": {},
   "source": [
    "## Singular Value Decomposition"
   ]
  },
  {
   "cell_type": "code",
   "execution_count": 119,
   "metadata": {},
   "outputs": [
    {
     "name": "stdout",
     "output_type": "stream",
     "text": [
      "Original Matrix:\n",
      "[[0.62171697 0.48429006 0.63997956 0.34123429 0.33443013]\n",
      " [0.99530156 0.75694761 0.85936708 0.85421092 0.54446677]\n",
      " [0.32372046 0.00582868 0.96514488 0.49747079 0.17645895]]\n",
      "\n",
      "U Matrix:\n",
      "[[-0.47208276  0.16946761  0.8651119 ]\n",
      " [-0.77056611  0.39736081 -0.49832948]\n",
      " [-0.42821227 -0.90187866 -0.05700119]]\n",
      "\n",
      "S Matrix:\n",
      "[2.34327508 0.61535005 0.18030191]\n",
      "\n",
      "V Transpose Matrix:\n",
      "[[-0.51170628 -0.34754736 -0.58789911 -0.4405543  -0.27866478]\n",
      " [ 0.33947856  0.61362801 -0.68336545 -0.08352999  0.18506584]\n",
      " [ 0.12986104  0.22974548  0.39040952 -0.88090612  0.04402214]\n",
      " [-0.69624606  0.65926466  0.18507196  0.14329217 -0.16070862]\n",
      " [-0.34826502 -0.12352578 -0.0267408  -0.04905527  0.92754049]]\n"
     ]
    }
   ],
   "source": [
    "A = np.random.rand(3, 5)\n",
    "\n",
    "U, S, Vt = np.linalg.svd(A)\n",
    "\n",
    "Sigma = np.zeros((3, 5))\n",
    "Sigma[:3, :3] = np.diag(S)\n",
    "\n",
    "print(f'Original Matrix:\\n{A}')\n",
    "print(f'\\nU Matrix:\\n{U}')\n",
    "print(f'\\nS Matrix:\\n{S}')\n",
    "print(f'\\nV Transpose Matrix:\\n{Vt}')\n",
    "\n",
    "assert (np.round(A, 2) == np.round(np.dot(U, np.dot(Sigma, Vt)), 2)).all()"
   ]
  }
 ],
 "metadata": {
  "kernelspec": {
   "display_name": "base",
   "language": "python",
   "name": "python3"
  },
  "language_info": {
   "codemirror_mode": {
    "name": "ipython",
    "version": 3
   },
   "file_extension": ".py",
   "mimetype": "text/x-python",
   "name": "python",
   "nbconvert_exporter": "python",
   "pygments_lexer": "ipython3",
   "version": "3.8.10 (default, May 19 2021, 13:12:57) [MSC v.1916 64 bit (AMD64)]"
  },
  "orig_nbformat": 4,
  "vscode": {
   "interpreter": {
    "hash": "efc8d9695810fe3585b36c89909e770e9664819a06c5f0b2cd87a4a705242f97"
   }
  }
 },
 "nbformat": 4,
 "nbformat_minor": 2
}
